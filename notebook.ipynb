{
 "metadata": {
  "language_info": {
   "codemirror_mode": {
    "name": "ipython",
    "version": 3
   },
   "file_extension": ".py",
   "mimetype": "text/x-python",
   "name": "python",
   "nbconvert_exporter": "python",
   "pygments_lexer": "ipython3",
   "version": "3.6.9-final"
  },
  "orig_nbformat": 2,
  "kernelspec": {
   "name": "python3",
   "display_name": "Python 3"
  }
 },
 "nbformat": 4,
 "nbformat_minor": 2,
 "cells": [
  {
   "cell_type": "code",
   "execution_count": 27,
   "metadata": {
    "tags": []
   },
   "outputs": [
    {
     "output_type": "stream",
     "name": "stdout",
     "text": "<class 'bytes'>\n4fb6563dd4ad9e2bc16f28491b12729b\n"
    }
   ],
   "source": [
    "from Crypto.Hash import MD5\n",
    "hash = MD5.new()\n",
    "message=b\"Hello Vedika\"\n",
    "print(type(message))\n",
    "hash.update(message)\n",
    "print(hash.hexdigest())"
   ]
  },
  {
   "cell_type": "code",
   "execution_count": 11,
   "metadata": {
    "tags": []
   },
   "outputs": [
    {
     "output_type": "stream",
     "name": "stdout",
     "text": "[[  0 128   1]\n [  0 128   1]\n [  0 128   1]\n ...\n [  0 128   1]\n [  0 128   1]\n [  0 128   1]] [[255 255 204]\n [ 33 112  29]\n [  0 139  21]\n ...\n [ 28 125  28]\n [ 28 118  30]\n [178 255 181]]\n"
    }
   ],
   "source": [
    "from PIL import Image\n",
    "import numpy as np\n",
    "\n",
    "\n",
    "pic1_arr = Image.open(\"pic1.jpg\")\n",
    "pic2_arr = Image.open(\"pic2.jpg\")\n",
    "\n",
    "pic1_arr = np.array(pic1_arr.getdata())\n",
    "pic2_arr = np.array(pic2_arr.getdata())\n",
    "\n",
    "update_indices =[]\n",
    "\n",
    "for i in range(400):\n",
    "    if(pic1_arr[i]!=pic2_arr[i]):\n",
    "        update_indices.append(i)\n",
    "        \n"
   ]
  },
  {
   "cell_type": "code",
   "execution_count": 4,
   "metadata": {
    "tags": []
   },
   "outputs": [],
   "source": [
    "if((1==0)&1):\n",
    "    print(\"hi\")"
   ]
  },
  {
   "cell_type": "code",
   "execution_count": 8,
   "metadata": {},
   "outputs": [],
   "source": [
    "from PIL import Image\n",
    "import numpy as np\n",
    "\n",
    "w, h = 256,256\n",
    "data = np.zeros((h, w, 3), dtype=np.uint8)\n",
    "data[:, :] = [255, 0, 0] # red patch in upper left\n",
    "img = Image.fromarray(data, 'RGB')\n",
    "img.save('pic1.png')\n",
    "data[150,150] = [255,255,255]\n",
    "data[0,0] =[255,255,255]\n",
    "img = Image.fromarray(data, 'RGB')\n",
    "img.save('pic2.png')\n",
    "\n",
    "img.show()"
   ]
  },
  {
   "cell_type": "code",
   "execution_count": 1,
   "metadata": {},
   "outputs": [
    {
     "output_type": "execute_result",
     "data": {
      "text/plain": "[0, 0, 0, 0, 0]"
     },
     "metadata": {},
     "execution_count": 1
    }
   ],
   "source": [
    "[0]*5"
   ]
  },
  {
   "cell_type": "code",
   "execution_count": 11,
   "metadata": {
    "tags": []
   },
   "outputs": [
    {
     "output_type": "stream",
     "name": "stdout",
     "text": "4\n0\n"
    }
   ],
   "source": [
    "R =[1,2,3,4]\n",
    "h=0\n",
    "for i in range(len(R)):\n",
    "    h=h^R[i]\n",
    "print(h)\n",
    "h^=4\n",
    "print(h)"
   ]
  },
  {
   "cell_type": "code",
   "execution_count": 1,
   "metadata": {
    "tags": []
   },
   "outputs": [],
   "source": [
    "import image_processing as ip\n",
    "import encryption_module as em\n",
    "\n",
    "def incremental_update_genrate_hash(key_tag,tag,indices_to_update_list_sorted,original_message_list,updated_messages_list_ac_indices):\n",
    "    ### TAG IS OF STR TYPE\n",
    "    ### 2nd argument should be str type\n",
    "    h = DES.decrypt_DES(key_tag,tag)\n",
    "    print(\"From em module line 56 h we have decrypted\",h)\n",
    "    h=int(h,16)\n",
    "\n",
    "    R = randomize_blocks(original_message_list)\n",
    "    R_new = randomize_blocks(updated_messages_list_ac_indices)\n",
    "\n",
    "    ### str type\n",
    "    N = len(R)\n",
    "    #visited =[0]*N\n",
    "    nb = len(indices_to_update_list_sorted)\n",
    "\n",
    "    for i in range(nb):\n",
    "        j = indices_to_update_list_sorted[i]\n",
    "        if(j!=0 & j!=N-1):\n",
    "            h=h^f1( hex(int(R[j],2))[2:] , R[j+1])^f1( hex(int(R[j-1],2))[2:] , R[j])\n",
    "            R[j]=R_new[i]\n",
    "            h=h^f1( hex(int(R[j],2))[2:] , R[j+1])^f1( hex(int(R[j-1],2))[2:] , R[j])\n",
    "        if(j==0):\n",
    "                h=h^f1( hex(int(R[0],2))[2:] , R[1])^f1( hex(int(R[N-1],2))[2:] , R[0])\n",
    "                R[j]=R_new[i]\n",
    "                h=h^f1( hex(int(R[0],2))[2:] , R[1])^f1( hex(int(R[N-1],2))[2:] , R[0])\n",
    "        if(j==N-1):\n",
    "                h=h^f1( hex(int(R[N-2],2))[2:] , R[N-1])^f1( hex(int(R[N-1],2))[2:] , R[0])\n",
    "                R[j]=R_new[i]\n",
    "                h=h^f1( hex(int(R[N-2],2))[2:] , R[N-1])^f1( hex(int(R[N-1],2))[2:] , R[0])                \n",
    "    \n",
    "    tag_updated = DES.encrypt_DES(key_tag,hex(h))\n",
    "    return tag_updated, hex(h)\n"
   ]
  },
  {
   "cell_type": "code",
   "execution_count": 3,
   "metadata": {
    "tags": []
   },
   "outputs": [
    {
     "output_type": "stream",
     "name": "stdout",
     "text": "hi\nhi\nhi\nhi\nhi\n[0, 14456] ['1111111111111111111111111111111100000000000000001111111100000000', '0000000000000000111111111111111111111111111111110000000000000000']\n"
    },
    {
     "output_type": "error",
     "ename": "NameError",
     "evalue": "name 'D' is not defined",
     "traceback": [
      "\u001b[0;31m---------------------------------------------------------------------------\u001b[0m",
      "\u001b[0;31mNameError\u001b[0m                                 Traceback (most recent call last)",
      "\u001b[0;32m<ipython-input-3-d37bfe3a8cef>\u001b[0m in \u001b[0;36m<module>\u001b[0;34m()\u001b[0m\n\u001b[1;32m     11\u001b[0m \u001b[0mindices\u001b[0m \u001b[0;34m,\u001b[0m \u001b[0mupdate_list\u001b[0m \u001b[0;34m=\u001b[0m \u001b[0mip\u001b[0m\u001b[0;34m.\u001b[0m\u001b[0mdifference_between_2_arrays\u001b[0m\u001b[0;34m(\u001b[0m\u001b[0mD1\u001b[0m\u001b[0;34m,\u001b[0m\u001b[0mD2\u001b[0m\u001b[0;34m)\u001b[0m\u001b[0;34m\u001b[0m\u001b[0;34m\u001b[0m\u001b[0m\n\u001b[1;32m     12\u001b[0m \u001b[0mprint\u001b[0m\u001b[0;34m(\u001b[0m\u001b[0mindices\u001b[0m\u001b[0;34m,\u001b[0m\u001b[0mupdate_list\u001b[0m\u001b[0;34m)\u001b[0m\u001b[0;34m\u001b[0m\u001b[0;34m\u001b[0m\u001b[0m\n\u001b[0;32m---> 13\u001b[0;31m \u001b[0mtag_updated\u001b[0m\u001b[0;34m,\u001b[0m \u001b[0mh1\u001b[0m \u001b[0;34m=\u001b[0m \u001b[0mem\u001b[0m\u001b[0;34m.\u001b[0m\u001b[0mincremental_update_genrate_hash\u001b[0m\u001b[0;34m(\u001b[0m\u001b[0mkey\u001b[0m\u001b[0;34m,\u001b[0m\u001b[0mtag\u001b[0m\u001b[0;34m,\u001b[0m\u001b[0mindices\u001b[0m\u001b[0;34m,\u001b[0m\u001b[0mD\u001b[0m\u001b[0;34m,\u001b[0m\u001b[0mupdate_list\u001b[0m\u001b[0;34m)\u001b[0m\u001b[0;34m\u001b[0m\u001b[0;34m\u001b[0m\u001b[0m\n\u001b[0m\u001b[1;32m     14\u001b[0m \u001b[0mprint\u001b[0m\u001b[0;34m(\u001b[0m\u001b[0;34m\"\\nTag_updated : \"\u001b[0m\u001b[0;34m,\u001b[0m\u001b[0mtag_updated\u001b[0m\u001b[0;34m,\u001b[0m\u001b[0;34m\"\\n h1 : \"\u001b[0m\u001b[0;34m,\u001b[0m\u001b[0mh1\u001b[0m\u001b[0;34m,\u001b[0m\u001b[0;34m\"\\n\"\u001b[0m\u001b[0;34m)\u001b[0m\u001b[0;34m\u001b[0m\u001b[0;34m\u001b[0m\u001b[0m\n\u001b[1;32m     15\u001b[0m \u001b[0mprint\u001b[0m\u001b[0;34m(\u001b[0m\u001b[0;34m'hi'\u001b[0m\u001b[0;34m)\u001b[0m\u001b[0;34m\u001b[0m\u001b[0;34m\u001b[0m\u001b[0m\n",
      "\u001b[0;31mNameError\u001b[0m: name 'D' is not defined"
     ]
    }
   ],
   "source": [
    "print('hi')\n",
    "key = '0e329232ea6d0d73'\n",
    "D1 = ip.image_to_blocks('pic1.png')\n",
    "print('hi')\n",
    "tag, h = em.encrypt_message(key, D1) \n",
    "print('hi')\n",
    "D2 = ip.image_to_blocks('pic2.png')\n",
    "print('hi')\n",
    "tag2, h2= em.encrypt_message(key, D2)\n",
    "print('hi')\n"
   ]
  },
  {
   "cell_type": "code",
   "execution_count": 5,
   "metadata": {
    "tags": []
   },
   "outputs": [
    {
     "output_type": "stream",
     "name": "stdout",
     "text": "cddb30ef2fef1aff 0x0 e9c5d65fa36711c1 0xcbf64df780caf46e\n[0, 14456] ['1111111111111111111111111111111100000000000000001111111100000000', '0000000000000000111111111111111111111111111111110000000000000000']\nFrom em module line 56 h we have decrypted 0000000000000000\n\nTag_updated :  e9c5d65fa36711c1 \n h1 :  0xcbf64df780caf46e \n\nhi\n"
    }
   ],
   "source": [
    "print(tag,h,tag2,h2)\n",
    "indices , update_list = ip.difference_between_2_arrays(D1,D2)\n",
    "print(indices,update_list)\n",
    "tag_updated, h1 = em.incremental_update_genrate_hash(key,tag,indices,D1,update_list)   \n",
    "print(\"\\nTag_updated : \",tag_updated,\"\\n h1 : \",h1,\"\\n\")\n",
    "print('hi')"
   ]
  },
  {
   "cell_type": "code",
   "execution_count": null,
   "metadata": {},
   "outputs": [],
   "source": []
  }
 ]
}