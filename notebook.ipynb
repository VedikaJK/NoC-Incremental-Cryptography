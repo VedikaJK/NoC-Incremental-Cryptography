{
 "metadata": {
  "language_info": {
   "codemirror_mode": {
    "name": "ipython",
    "version": 3
   },
   "file_extension": ".py",
   "mimetype": "text/x-python",
   "name": "python",
   "nbconvert_exporter": "python",
   "pygments_lexer": "ipython3",
   "version": "3.6.9-final"
  },
  "orig_nbformat": 2,
  "kernelspec": {
   "name": "python3",
   "display_name": "Python 3"
  }
 },
 "nbformat": 4,
 "nbformat_minor": 2,
 "cells": [
  {
   "cell_type": "code",
   "execution_count": 27,
   "metadata": {
    "tags": []
   },
   "outputs": [
    {
     "output_type": "stream",
     "name": "stdout",
     "text": "<class 'bytes'>\n4fb6563dd4ad9e2bc16f28491b12729b\n"
    }
   ],
   "source": [
    "from Crypto.Hash import MD5\n",
    "hash = MD5.new()\n",
    "message=b\"Hello Vedika\"\n",
    "print(type(message))\n",
    "hash.update(message)\n",
    "print(hash.hexdigest())"
   ]
  }
 ]
}