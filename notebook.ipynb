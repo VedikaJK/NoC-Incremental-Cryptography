{
 "metadata": {
  "language_info": {
   "codemirror_mode": {
    "name": "ipython",
    "version": 3
   },
   "file_extension": ".py",
   "mimetype": "text/x-python",
   "name": "python",
   "nbconvert_exporter": "python",
   "pygments_lexer": "ipython3",
   "version": "3.6.9-final"
  },
  "orig_nbformat": 2,
  "kernelspec": {
   "name": "python3",
   "display_name": "Python 3"
  }
 },
 "nbformat": 4,
 "nbformat_minor": 2,
 "cells": [
  {
   "cell_type": "code",
   "execution_count": 27,
   "metadata": {
    "tags": []
   },
   "outputs": [
    {
     "output_type": "stream",
     "name": "stdout",
     "text": "<class 'bytes'>\n4fb6563dd4ad9e2bc16f28491b12729b\n"
    }
   ],
   "source": [
    "from Crypto.Hash import MD5\n",
    "hash = MD5.new()\n",
    "message=b\"Hello Vedika\"\n",
    "print(type(message))\n",
    "hash.update(message)\n",
    "print(hash.hexdigest())"
   ]
  },
  {
   "cell_type": "code",
   "execution_count": 11,
   "metadata": {
    "tags": []
   },
   "outputs": [
    {
     "output_type": "stream",
     "name": "stdout",
     "text": "[[  0 128   1]\n [  0 128   1]\n [  0 128   1]\n ...\n [  0 128   1]\n [  0 128   1]\n [  0 128   1]] [[255 255 204]\n [ 33 112  29]\n [  0 139  21]\n ...\n [ 28 125  28]\n [ 28 118  30]\n [178 255 181]]\n"
    }
   ],
   "source": [
    "from PIL import Image\n",
    "import numpy as np\n",
    "\n",
    "\n",
    "pic1_arr = Image.open(\"pic1.jpg\")\n",
    "pic2_arr = Image.open(\"pic2.jpg\")\n",
    "\n",
    "pic1_arr = np.array(pic1_arr.getdata())\n",
    "pic2_arr = np.array(pic2_arr.getdata())\n",
    "\n",
    "update_indices =[]\n",
    "\n",
    "for i in range(400):\n",
    "    if(pic1_arr[i]!=pic2_arr[i]):\n",
    "        update_indices.append(i)\n",
    "        \n"
   ]
  },
  {
   "cell_type": "code",
   "execution_count": 4,
   "metadata": {
    "tags": []
   },
   "outputs": [],
   "source": [
    "if((1==0)&1):\n",
    "    print(\"hi\")"
   ]
  },
  {
   "cell_type": "code",
   "execution_count": null,
   "metadata": {},
   "outputs": [],
   "source": []
  }
 ]
}