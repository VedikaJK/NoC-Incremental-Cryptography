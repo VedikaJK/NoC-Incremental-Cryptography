{
 "metadata": {
  "language_info": {
   "codemirror_mode": {
    "name": "ipython",
    "version": 3
   },
   "file_extension": ".py",
   "mimetype": "text/x-python",
   "name": "python",
   "nbconvert_exporter": "python",
   "pygments_lexer": "ipython3",
   "version": "3.6.9-final"
  },
  "orig_nbformat": 2,
  "kernelspec": {
   "name": "python3",
   "display_name": "Python 3"
  }
 },
 "nbformat": 4,
 "nbformat_minor": 2,
 "cells": [
  {
   "cell_type": "code",
   "execution_count": 27,
   "metadata": {
    "tags": []
   },
   "outputs": [
    {
     "output_type": "stream",
     "name": "stdout",
     "text": "<class 'bytes'>\n4fb6563dd4ad9e2bc16f28491b12729b\n"
    }
   ],
   "source": [
    "from Crypto.Hash import MD5\n",
    "hash = MD5.new()\n",
    "message=b\"Hello Vedika\"\n",
    "print(type(message))\n",
    "hash.update(message)\n",
    "print(hash.hexdigest())"
   ]
  },
  {
   "cell_type": "code",
   "execution_count": 31,
   "metadata": {
    "tags": []
   },
   "outputs": [
    {
     "output_type": "stream",
     "name": "stdout",
     "text": "4fb6563dd4ad9e2bc16f28491b12729b\n"
    }
   ],
   "source": [
    "from Crypto.Hash import MD5\n",
    "hash = MD5.new()\n",
    "hash.update(b'Hello ')\n",
    "hash.update(b'Vedika')\n",
    "print(hash.hexdigest())"
   ]
  },
  {
   "cell_type": "code",
   "execution_count": 40,
   "metadata": {},
   "outputs": [],
   "source": [
    "def HEval(list_g,list_message):\n",
    "    h=1\n",
    "    for i in range(len(list_g)):\n",
    "        print(list_g[i], list_message[i])\n",
    "        h=h*(list_g[i]**(int(list_message[i],2)+1))\n",
    "    return h\n"
   ]
  },
  {
   "cell_type": "code",
   "execution_count": 41,
   "metadata": {},
   "outputs": [
    {
     "output_type": "execute_result",
     "data": {
      "text/plain": "419904"
     },
     "metadata": {},
     "execution_count": 41
    }
   ],
   "source": [
    "g=[2,3]\n",
    "m=[b'101',b'111']\n",
    "HEval(g,m)"
   ]
  },
  {
   "cell_type": "code",
   "execution_count": 7,
   "metadata": {
    "tags": []
   },
   "outputs": [
    {
     "output_type": "stream",
     "name": "stdout",
     "text": "\nRandom n-bit Prime (p):  29\n"
    }
   ],
   "source": [
    "import Crypto.Util.number\n",
    "import Crypto\n",
    "import sys\n",
    "import random\n",
    "p=Crypto.Util.number.getPrime(5, randfunc=None) #Crypto.Random.get_random_bytes\n",
    "print (\"\\nRandom n-bit Prime (p): \",p)"
   ]
  },
  {
   "cell_type": "code",
   "execution_count": 75,
   "metadata": {},
   "outputs": [
    {
     "output_type": "execute_result",
     "data": {
      "text/plain": "[20, 13, 93, 19, 75, 77, 38]"
     },
     "metadata": {},
     "execution_count": 75
    }
   ],
   "source": [
    "import\n",
    "random.sarandom.sa"
   ]
  },
  {
   "cell_type": "code",
   "execution_count": 41,
   "metadata": {},
   "outputs": [],
   "source": [
    "import Crypto.Util.number\n",
    "import Crypto\n",
    "import random\n",
    "import sys\n",
    "\n",
    "n=5\n",
    "\n",
    "def getPrime(k):\n",
    "    #should return k+1 bit prime\n",
    "    p=Crypto.Util.number.getPrime(k+1, randfunc=None) #randfunc=Crypto.Random.get_random_bytes\n",
    "    return p\n",
    "\n",
    "def SelectG(p,n):\n",
    "    #should select randomly g1,..,gn from 0,..,p and return that\n",
    "    g=random.sample(range(2,p),n)\n",
    "    return g\n",
    "\n",
    "def HGen(k):\n",
    "    #should return hash family p,g1,..,gn\n",
    "    p=getPrime(k)\n",
    "    g=SelectG(p,n)\n",
    "    print(p,\" \",g,\" \")\n",
    "    return p,g\n",
    "\n",
    "def HEval(p,list_g,list_message):\n",
    "    h=1\n",
    "    for i in range(len(list_g)):\n",
    "        h=h*(list_g[i]**(int(list_message[i],2)+1))\n",
    "    return h\n",
    "\n",
    "def IncH(p,g,M,h,j,m):\n",
    "    print(M[j])\n",
    "    print(int(M[j],2))\n",
    "    x=int(h/(g[j]**(int(M[j],2)+1)))\n",
    "    y=x*(g[j]**(int(m,2)+1))\n",
    "    return y\n",
    "\n",
    "def main():\n",
    "    M=[b'101',b'101',b'101',b'101',b'101']\n",
    "    p,g = HGen(20)\n",
    "    h=HEval(p,g,M)\n",
    "    h1=IncH(p,g,M,h,2,b'111')\n",
    "    M1=[b'101',b'101',b'111',b'101',b'101']\n",
    "    h2=HEval(p,g,M1)\n",
    "    print(h,\" \")\n",
    "    print(h1)\n",
    "    print(h2)\n"
   ]
  },
  {
   "cell_type": "code",
   "execution_count": 42,
   "metadata": {
    "tags": []
   },
   "outputs": [
    {
     "output_type": "stream",
     "name": "stdout",
     "text": "2063483   [1126102, 379344, 1565237, 1650518, 83157]  \nb'101'\n5\n597393917380790466841018476725060416042638280714589749141359769853232198598842218764803131729591948552854508432428713875022943909651497476864060887249146120829860181186707456  \n1463595303633837710415072772085709272659545010378411301503583181917415949965421757098237420228358934633057397294059238096124294280735518845152674978334741760926075335239788705164243763200\n1463595303633837720686520546566322333719173841285157557620349053930694370676691303498895454721785274917171234683600360825881130213301543946330653833556996172770695561740436197455706456064\n0.00992202200000003\n"
    }
   ],
   "source": [
    "import time\n",
    "start = time.process_time()\n",
    "main()    \n",
    "print(time.process_time() - start)"
   ]
  },
  {
   "cell_type": "code",
   "execution_count": 6,
   "metadata": {
    "tags": []
   },
   "outputs": [],
   "source": [
    "fo = open(\"test1.jpeg\",\"rb\")\n",
    "image = fo.read()\n",
    "fo.close()\n",
    "image = bytearray(image)\n",
    "key = 48\n",
    "for index, value in enumerate(image):\n",
    "    image[index]=value^key\n",
    "fo = open(\"enc.jpeg\",\"wb\")\n",
    "fo.write(image)\n",
    "fo.close()"
   ]
  },
  {
   "cell_type": "code",
   "execution_count": 9,
   "metadata": {},
   "outputs": [
    {
     "output_type": "error",
     "ename": "FileNotFoundError",
     "evalue": "[Errno 2] No such file or directory: 'enc.jpeg'",
     "traceback": [
      "\u001b[0;31m---------------------------------------------------------------------------\u001b[0m",
      "\u001b[0;31mFileNotFoundError\u001b[0m                         Traceback (most recent call last)",
      "\u001b[0;32m<ipython-input-9-5d3281a32221>\u001b[0m in \u001b[0;36m<module>\u001b[0;34m()\u001b[0m\n\u001b[0;32m----> 1\u001b[0;31m \u001b[0mfo\u001b[0m \u001b[0;34m=\u001b[0m \u001b[0mopen\u001b[0m\u001b[0;34m(\u001b[0m\u001b[0;34m\"enc.jpeg\"\u001b[0m\u001b[0;34m,\u001b[0m\u001b[0;34m\"rb\"\u001b[0m\u001b[0;34m)\u001b[0m\u001b[0;34m\u001b[0m\u001b[0;34m\u001b[0m\u001b[0m\n\u001b[0m\u001b[1;32m      2\u001b[0m \u001b[0mimage\u001b[0m \u001b[0;34m=\u001b[0m \u001b[0mfo\u001b[0m\u001b[0;34m.\u001b[0m\u001b[0mread\u001b[0m\u001b[0;34m(\u001b[0m\u001b[0;34m)\u001b[0m\u001b[0;34m\u001b[0m\u001b[0;34m\u001b[0m\u001b[0m\n\u001b[1;32m      3\u001b[0m \u001b[0mfo\u001b[0m\u001b[0;34m.\u001b[0m\u001b[0mclose\u001b[0m\u001b[0;34m(\u001b[0m\u001b[0;34m)\u001b[0m\u001b[0;34m\u001b[0m\u001b[0;34m\u001b[0m\u001b[0m\n\u001b[1;32m      4\u001b[0m \u001b[0mimage\u001b[0m \u001b[0;34m=\u001b[0m \u001b[0mbytearray\u001b[0m\u001b[0;34m(\u001b[0m\u001b[0mimage\u001b[0m\u001b[0;34m)\u001b[0m\u001b[0;34m\u001b[0m\u001b[0;34m\u001b[0m\u001b[0m\n\u001b[1;32m      5\u001b[0m \u001b[0mkey\u001b[0m \u001b[0;34m=\u001b[0m \u001b[0;36m48\u001b[0m\u001b[0;34m\u001b[0m\u001b[0;34m\u001b[0m\u001b[0m\n",
      "\u001b[0;31mFileNotFoundError\u001b[0m: [Errno 2] No such file or directory: 'enc.jpeg'"
     ]
    }
   ],
   "source": [
    "fo = open(\"enc.jpeg\",\"rb\")\n",
    "image = fo.read()\n",
    "fo.close()\n",
    "image = bytearray(image)\n",
    "key = 48\n",
    "for index, value in enumerate(image):\n",
    "    image[index]=value^key\n",
    "fo = open(\"denc.jpeg\",\"wb\")\n",
    "fo.write(image)\n",
    "fo.close()"
   ]
  },
  {
   "cell_type": "code",
   "execution_count": 20,
   "metadata": {},
   "outputs": [],
   "source": [
    "import sys"
   ]
  },
  {
   "cell_type": "code",
   "execution_count": 51,
   "metadata": {
    "tags": []
   },
   "outputs": [
    {
     "output_type": "stream",
     "name": "stdout",
     "text": "<class 'bytes'>\n59\n"
    }
   ],
   "source": [
    "fo = open(\"pic1.png\",\"rb\")\n",
    "image1 = fo.read()\n",
    "print(type(image1))\n",
    "fo.close()\n",
    "image1 = bytearray(image1)\n",
    "print(image1[500])\n",
    "#print(sys.getsizeof(image1[256]))\n",
    "#print(len(image1))\n",
    "fo = open(\"pic1-up.png\",\"wb\")\n",
    "fo.write(image1)\n",
    "fo.close()"
   ]
  },
  {
   "cell_type": "code",
   "execution_count": 45,
   "metadata": {
    "tags": []
   },
   "outputs": [
    {
     "output_type": "stream",
     "name": "stdout",
     "text": "59\n28\n114997\n"
    }
   ],
   "source": [
    "fo2 = open(\"pic2.png\",\"rb\")\n",
    "image2 = fo2.read()\n",
    "fo2.close()\n",
    "image2 = bytearray(image2)\n",
    "print(image2[500])\n",
    "print(sys.getsizeof(image2[256]))\n",
    "print(len(image2))"
   ]
  },
  {
   "cell_type": "code",
   "execution_count": 58,
   "metadata": {},
   "outputs": [],
   "source": [
    "from PIL import Image\n",
    "\n",
    "im = Image.new(mode = \"RGB\", size = (200, 200), color = (153, 153, 255) )\n",
    "pixels = im.load()\n",
    "pixels[10,10] = (0,0,0)\n",
    "im.show()"
   ]
  },
  {
   "cell_type": "code",
   "execution_count": 95,
   "metadata": {
    "tags": []
   },
   "outputs": [
    {
     "output_type": "stream",
     "name": "stdout",
     "text": "<PixelAccess object at 0x7f2ad3507330>\n"
    }
   ],
   "source": [
    "from PIL import Image\n",
    "\n",
    "# PIL accesses images in Cartesian co-ordinates, so it is Image[columns, rows]\n",
    "img = Image.new( 'RGB', (20,20), \"green\") # create a new black image\n",
    "pixels = img.load() # create the pixel map\n",
    "print(pixels)\n",
    "img.show()\n",
    "img.save('pic1.jpg')\n",
    "for i in range(img.size[0]):    # for every col:\n",
    "        pixels[i,i] = (255, 255, 255) # set the colour accordingly\n",
    "        #pixels[i,19-i] = (255, 255, 255)\n",
    "img.show()\n",
    "img.save('pic2.jpg')"
   ]
  },
  {
   "cell_type": "code",
   "execution_count": 97,
   "metadata": {
    "tags": []
   },
   "outputs": [],
   "source": [
    "fo1 = open(\"pic1.jpg\",\"rb\")\n",
    "im1 = fo1.read()\n",
    "fo1.close()\n",
    "im1 = bytearray(im1)\n",
    "#print(len(im1))\n",
    "fo2 = open(\"pic2.jpg\",\"rb\")\n",
    "im2 = fo2.read()\n",
    "fo2.close()\n",
    "im2 = bytearray(im2)\n",
    "#print(len(im2))\n",
    "#print(im2)\n",
    "#im1"
   ]
  },
  {
   "cell_type": "code",
   "execution_count": 98,
   "metadata": {
    "tags": []
   },
   "outputs": [
    {
     "output_type": "stream",
     "name": "stdout",
     "text": "<PIL.Image.Image image mode=RGB size=20x20 at 0x7F2AFDF149E8>\n"
    }
   ],
   "source": [
    "from PIL import Image, ImageChops\n",
    "\n",
    "pixelsDifference = ImageChops.difference(Image.open('pic1.jpg'), Image.open('pic2.jpg')).convert('L')\n",
    "pixelsDifference = pixelsDifference.point(([0] + ([255] * 255)))\n",
    "Img = pixelsDifference.convert('RGB')\n",
    "print(Img)"
   ]
  },
  {
   "cell_type": "code",
   "execution_count": 100,
   "metadata": {
    "tags": []
   },
   "outputs": [
    {
     "output_type": "stream",
     "name": "stdout",
     "text": "20\n20\n"
    }
   ],
   "source": [
    "import matplotlib.pyplot as plt \n",
    "import matplotlib.image as img \n",
    "  \n",
    "# reading the image \n",
    "testImage = img.imread('pic1.jpg') \n",
    "  \n",
    "# displaying the image as an array \n",
    "print(len(testImage))\n",
    "#print(testImage)\n",
    "\n",
    "# reading the image \n",
    "testImage2 = img.imread('pic2.jpg') \n",
    "  \n",
    "# displaying the image as an array \n",
    "print(len(testImage2))\n",
    "#print(testImage2)\n"
   ]
  },
  {
   "cell_type": "code",
   "execution_count": 5,
   "metadata": {
    "tags": []
   },
   "outputs": [
    {
     "output_type": "stream",
     "name": "stdout",
     "text": "[[75 75 75 75 75 75 75 75 75 75 75 75 75 75 75 75 75 75 75 75]\n [75 75 75 75 75 75 75 75 75 75 75 75 75 75 75 75 75 75 75 75]\n [75 75 75 75 75 75 75 75 75 75 75 75 75 75 75 75 75 75 75 75]\n [75 75 75 75 75 75 75 75 75 75 75 75 75 75 75 75 75 75 75 75]\n [75 75 75 75 75 75 75 75 75 75 75 75 75 75 75 75 75 75 75 75]\n [75 75 75 75 75 75 75 75 75 75 75 75 75 75 75 75 75 75 75 75]\n [75 75 75 75 75 75 75 75 75 75 75 75 75 75 75 75 75 75 75 75]\n [75 75 75 75 75 75 75 75 75 75 75 75 75 75 75 75 75 75 75 75]\n [75 75 75 75 75 75 75 75 75 75 75 75 75 75 75 75 75 75 75 75]\n [75 75 75 75 75 75 75 75 75 75 75 75 75 75 75 75 75 75 75 75]\n [75 75 75 75 75 75 75 75 75 75 75 75 75 75 75 75 75 75 75 75]\n [75 75 75 75 75 75 75 75 75 75 75 75 75 75 75 75 75 75 75 75]\n [75 75 75 75 75 75 75 75 75 75 75 75 75 75 75 75 75 75 75 75]\n [75 75 75 75 75 75 75 75 75 75 75 75 75 75 75 75 75 75 75 75]\n [75 75 75 75 75 75 75 75 75 75 75 75 75 75 75 75 75 75 75 75]\n [75 75 75 75 75 75 75 75 75 75 75 75 75 75 75 75 75 75 75 75]\n [75 75 75 75 75 75 75 75 75 75 75 75 75 75 75 75 75 75 75 75]\n [75 75 75 75 75 75 75 75 75 75 75 75 75 75 75 75 75 75 75 75]\n [75 75 75 75 75 75 75 75 75 75 75 75 75 75 75 75 75 75 75 75]\n [75 75 75 75 75 75 75 75 75 75 75 75 75 75 75 75 75 75 75 75]]\n[[255  75  75  75  75  75  75  75  75  75  75  75  75  75  75  75  75  75\n   75  75]\n [ 75  75  75  75  75  75  75  75  75  75  75  75  75  75  75  75  75  75\n   75  75]\n [ 75  75  75  75  75  75  75  75  75  75  75  75  75  75  75  75  75  75\n   75  75]\n [ 75  75  75  75  75  75  75  75  75  75  75  75  75  75  75  75  75  75\n   75  75]\n [ 75  75  75  75  75  75  75  75  75  75  75  75  75  75  75  75  75  75\n   75  75]\n [ 75  75  75  75  75  75  75  75  75  75  75  75  75  75  75  75  75  75\n   75  75]\n [ 75  75  75  75  75  75  75  75  75  75  75  75  75  75  75  75  75  75\n   75  75]\n [ 75  75  75  75  75  75  75  75  75  75  75  75  75  75  75  75  75  75\n   75  75]\n [ 75  75  75  75  75  75  75  75  75  75  75  75  75  75  75  75  75  75\n   75  75]\n [ 75  75  75  75  75  75  75  75  75  75  75  75  75  75  75  75  75  75\n   75  75]\n [ 75  75  75  75  75  75  75  75  75  75  75  75  75  75  75  75  75  75\n   75  75]\n [ 75  75  75  75  75  75  75  75  75  75  75  75  75  75  75  75  75  75\n   75  75]\n [ 75  75  75  75  75  75  75  75  75  75  75  75  75  75  75  75  75  75\n   75  75]\n [ 75  75  75  75  75  75  75  75  75  75  75  75  75  75  75  75  75  75\n   75  75]\n [ 75  75  75  75  75  75  75  75  75  75  75  75  75  75  75  75  75  75\n   75  75]\n [ 75  75  75  75  75  75  75  75  75  75  75  75  75  75  75  75  75  75\n   75  75]\n [ 75  75  75  75  75  75  75  75  75  75  75  75  75  75  75  75  75  75\n   75  75]\n [ 75  75  75  75  75  75  75  75  75  75  75  75  75  75  75  75  75  75\n   75  75]\n [ 75  75  75  75  75  75  75  75  75  75  75  75  75  75  75  75  75  75\n   75  75]\n [ 75  75  75  75  75  75  75  75  75  75  75  75  75  75  75  75  75  75\n   75  75]]\n[[249  79  84  81  77  75  75  79  76  76  76  76  76  75  75  77  75  75\n   75  75]\n [ 79 234  72  83  76  78  78  74  76  77  76  75  75  77  76  75  75  75\n   75  75]\n [ 84  72 244  71  82  79  76  75  75  77  76  75  75  77  77  75  75  75\n   75  75]\n [ 81  83  71 240  73  81  75  79  75  75  75  76  75  75  75  76  75  75\n   75  75]\n [ 77  76  82  73 243  71  83  78  78  75  75  78  76  75  75  76  75  75\n   75  75]\n [ 75  78  79  81  71 241  72  77  80  79  75  75  75  76  76  76  75  75\n   75  75]\n [ 75  78  76  75  83  72 240  79  77  83  79  75  75  77  77  76  75  75\n   75  75]\n [ 79  74  75  79  78  77  79 241  75  77  80  78  75  75  76  76  75  75\n   75  75]\n [ 76  76  75  75  78  80  77  75 241  79  77  78  79  75  74  79  75  75\n   75  75]\n [ 76  77  77  75  75  79  83  77  79 240  72  83  75  76  78  75  75  75\n   75  75]\n [ 76  76  76  75  75  75  79  80  77  72 241  71  81  79  78  75  75  75\n   75  75]\n [ 76  75  75  76  78  75  75  78  78  83  71 243  73  82  76  77  75  75\n   75  75]\n [ 76  75  75  75  76  75  75  75  79  75  81  73 240  71  83  81  75  75\n   75  75]\n [ 75  77  77  75  75  76  77  75  75  76  79  82  71 244  72  84  75  75\n   75  75]\n [ 75  76  77  75  75  76  77  76  74  78  78  76  83  72 234  79  75  75\n   75  75]\n [ 77  75  75  76  76  76  76  76  79  75  75  77  81  84  79 249  75  75\n   75  75]\n [ 75  75  75  75  75  75  75  75  75  75  75  75  75  75  75  75 226  64\n   76  79]\n [ 75  75  75  75  75  75  75  75  75  75  75  75  75  75  75  75  82 228\n   75  77]\n [ 75  75  75  75  75  75  75  75  75  75  75  75  75  75  75  75  63  70\n  231  81]\n [ 75  75  75  75  75  75  75  75  75  75  75  75  75  75  75  75  85  85\n   81 224]]\n"
    },
    {
     "output_type": "error",
     "ename": "ValueError",
     "evalue": "not enough image data",
     "traceback": [
      "\u001b[0;31m---------------------------------------------------------------------------\u001b[0m",
      "\u001b[0;31mValueError\u001b[0m                                Traceback (most recent call last)",
      "\u001b[0;32m<ipython-input-5-532a3d45c65c>\u001b[0m in \u001b[0;36m<module>\u001b[0;34m()\u001b[0m\n\u001b[1;32m      8\u001b[0m \u001b[0mb\u001b[0m\u001b[0;34m=\u001b[0m\u001b[0mnp\u001b[0m\u001b[0;34m.\u001b[0m\u001b[0marray\u001b[0m\u001b[0;34m(\u001b[0m\u001b[0mImage\u001b[0m\u001b[0;34m.\u001b[0m\u001b[0mopen\u001b[0m\u001b[0;34m(\u001b[0m\u001b[0;34m'pic2.jpg'\u001b[0m\u001b[0;34m)\u001b[0m\u001b[0;34m.\u001b[0m\u001b[0mconvert\u001b[0m\u001b[0;34m(\u001b[0m\u001b[0;34m'L'\u001b[0m\u001b[0;34m)\u001b[0m\u001b[0;34m)\u001b[0m\u001b[0;34m\u001b[0m\u001b[0;34m\u001b[0m\u001b[0m\n\u001b[1;32m      9\u001b[0m \u001b[0mprint\u001b[0m\u001b[0;34m(\u001b[0m\u001b[0mb\u001b[0m\u001b[0;34m)\u001b[0m\u001b[0;34m\u001b[0m\u001b[0;34m\u001b[0m\u001b[0m\n\u001b[0;32m---> 10\u001b[0;31m \u001b[0mimg\u001b[0m \u001b[0;34m=\u001b[0m \u001b[0mImage\u001b[0m\u001b[0;34m.\u001b[0m\u001b[0mfromarray\u001b[0m\u001b[0;34m(\u001b[0m\u001b[0mb\u001b[0m\u001b[0;34m,\u001b[0m \u001b[0;34m'RGB'\u001b[0m\u001b[0;34m)\u001b[0m\u001b[0;34m\u001b[0m\u001b[0;34m\u001b[0m\u001b[0m\n\u001b[0m\u001b[1;32m     11\u001b[0m \u001b[0mimg\u001b[0m\u001b[0;34m.\u001b[0m\u001b[0msave\u001b[0m\u001b[0;34m(\u001b[0m\u001b[0;34m'test.jpg'\u001b[0m\u001b[0;34m)\u001b[0m\u001b[0;34m\u001b[0m\u001b[0;34m\u001b[0m\u001b[0m\n\u001b[1;32m     12\u001b[0m \u001b[0mimg\u001b[0m\u001b[0;34m.\u001b[0m\u001b[0mshow\u001b[0m\u001b[0;34m(\u001b[0m\u001b[0;34m)\u001b[0m\u001b[0;34m\u001b[0m\u001b[0;34m\u001b[0m\u001b[0m\n",
      "\u001b[0;32m/usr/local/lib/python3.6/dist-packages/PIL/Image.py\u001b[0m in \u001b[0;36mfromarray\u001b[0;34m(obj, mode)\u001b[0m\n\u001b[1;32m   2768\u001b[0m             \u001b[0mobj\u001b[0m \u001b[0;34m=\u001b[0m \u001b[0mobj\u001b[0m\u001b[0;34m.\u001b[0m\u001b[0mtostring\u001b[0m\u001b[0;34m(\u001b[0m\u001b[0;34m)\u001b[0m\u001b[0;34m\u001b[0m\u001b[0;34m\u001b[0m\u001b[0m\n\u001b[1;32m   2769\u001b[0m \u001b[0;34m\u001b[0m\u001b[0m\n\u001b[0;32m-> 2770\u001b[0;31m     \u001b[0;32mreturn\u001b[0m \u001b[0mfrombuffer\u001b[0m\u001b[0;34m(\u001b[0m\u001b[0mmode\u001b[0m\u001b[0;34m,\u001b[0m \u001b[0msize\u001b[0m\u001b[0;34m,\u001b[0m \u001b[0mobj\u001b[0m\u001b[0;34m,\u001b[0m \u001b[0;34m\"raw\"\u001b[0m\u001b[0;34m,\u001b[0m \u001b[0mrawmode\u001b[0m\u001b[0;34m,\u001b[0m \u001b[0;36m0\u001b[0m\u001b[0;34m,\u001b[0m \u001b[0;36m1\u001b[0m\u001b[0;34m)\u001b[0m\u001b[0;34m\u001b[0m\u001b[0;34m\u001b[0m\u001b[0m\n\u001b[0m\u001b[1;32m   2771\u001b[0m \u001b[0;34m\u001b[0m\u001b[0m\n\u001b[1;32m   2772\u001b[0m \u001b[0;34m\u001b[0m\u001b[0m\n",
      "\u001b[0;32m/usr/local/lib/python3.6/dist-packages/PIL/Image.py\u001b[0m in \u001b[0;36mfrombuffer\u001b[0;34m(mode, size, data, decoder_name, *args)\u001b[0m\n\u001b[1;32m   2708\u001b[0m             \u001b[0;32mreturn\u001b[0m \u001b[0mim\u001b[0m\u001b[0;34m\u001b[0m\u001b[0;34m\u001b[0m\u001b[0m\n\u001b[1;32m   2709\u001b[0m \u001b[0;34m\u001b[0m\u001b[0m\n\u001b[0;32m-> 2710\u001b[0;31m     \u001b[0;32mreturn\u001b[0m \u001b[0mfrombytes\u001b[0m\u001b[0;34m(\u001b[0m\u001b[0mmode\u001b[0m\u001b[0;34m,\u001b[0m \u001b[0msize\u001b[0m\u001b[0;34m,\u001b[0m \u001b[0mdata\u001b[0m\u001b[0;34m,\u001b[0m \u001b[0mdecoder_name\u001b[0m\u001b[0;34m,\u001b[0m \u001b[0margs\u001b[0m\u001b[0;34m)\u001b[0m\u001b[0;34m\u001b[0m\u001b[0;34m\u001b[0m\u001b[0m\n\u001b[0m\u001b[1;32m   2711\u001b[0m \u001b[0;34m\u001b[0m\u001b[0m\n\u001b[1;32m   2712\u001b[0m \u001b[0;34m\u001b[0m\u001b[0m\n",
      "\u001b[0;32m/usr/local/lib/python3.6/dist-packages/PIL/Image.py\u001b[0m in \u001b[0;36mfrombytes\u001b[0;34m(mode, size, data, decoder_name, *args)\u001b[0m\n\u001b[1;32m   2648\u001b[0m \u001b[0;34m\u001b[0m\u001b[0m\n\u001b[1;32m   2649\u001b[0m     \u001b[0mim\u001b[0m \u001b[0;34m=\u001b[0m \u001b[0mnew\u001b[0m\u001b[0;34m(\u001b[0m\u001b[0mmode\u001b[0m\u001b[0;34m,\u001b[0m \u001b[0msize\u001b[0m\u001b[0;34m)\u001b[0m\u001b[0;34m\u001b[0m\u001b[0;34m\u001b[0m\u001b[0m\n\u001b[0;32m-> 2650\u001b[0;31m     \u001b[0mim\u001b[0m\u001b[0;34m.\u001b[0m\u001b[0mfrombytes\u001b[0m\u001b[0;34m(\u001b[0m\u001b[0mdata\u001b[0m\u001b[0;34m,\u001b[0m \u001b[0mdecoder_name\u001b[0m\u001b[0;34m,\u001b[0m \u001b[0margs\u001b[0m\u001b[0;34m)\u001b[0m\u001b[0;34m\u001b[0m\u001b[0;34m\u001b[0m\u001b[0m\n\u001b[0m\u001b[1;32m   2651\u001b[0m     \u001b[0;32mreturn\u001b[0m \u001b[0mim\u001b[0m\u001b[0;34m\u001b[0m\u001b[0;34m\u001b[0m\u001b[0m\n\u001b[1;32m   2652\u001b[0m \u001b[0;34m\u001b[0m\u001b[0m\n",
      "\u001b[0;32m/usr/local/lib/python3.6/dist-packages/PIL/Image.py\u001b[0m in \u001b[0;36mfrombytes\u001b[0;34m(self, data, decoder_name, *args)\u001b[0m\n\u001b[1;32m    799\u001b[0m \u001b[0;34m\u001b[0m\u001b[0m\n\u001b[1;32m    800\u001b[0m         \u001b[0;32mif\u001b[0m \u001b[0ms\u001b[0m\u001b[0;34m[\u001b[0m\u001b[0;36m0\u001b[0m\u001b[0;34m]\u001b[0m \u001b[0;34m>=\u001b[0m \u001b[0;36m0\u001b[0m\u001b[0;34m:\u001b[0m\u001b[0;34m\u001b[0m\u001b[0;34m\u001b[0m\u001b[0m\n\u001b[0;32m--> 801\u001b[0;31m             \u001b[0;32mraise\u001b[0m \u001b[0mValueError\u001b[0m\u001b[0;34m(\u001b[0m\u001b[0;34m\"not enough image data\"\u001b[0m\u001b[0;34m)\u001b[0m\u001b[0;34m\u001b[0m\u001b[0;34m\u001b[0m\u001b[0m\n\u001b[0m\u001b[1;32m    802\u001b[0m         \u001b[0;32mif\u001b[0m \u001b[0ms\u001b[0m\u001b[0;34m[\u001b[0m\u001b[0;36m1\u001b[0m\u001b[0;34m]\u001b[0m \u001b[0;34m!=\u001b[0m \u001b[0;36m0\u001b[0m\u001b[0;34m:\u001b[0m\u001b[0;34m\u001b[0m\u001b[0;34m\u001b[0m\u001b[0m\n\u001b[1;32m    803\u001b[0m             \u001b[0;32mraise\u001b[0m \u001b[0mValueError\u001b[0m\u001b[0;34m(\u001b[0m\u001b[0;34m\"cannot decode image data\"\u001b[0m\u001b[0;34m)\u001b[0m\u001b[0;34m\u001b[0m\u001b[0;34m\u001b[0m\u001b[0m\n",
      "\u001b[0;31mValueError\u001b[0m: not enough image data"
     ]
    }
   ],
   "source": [
    "import numpy as np\n",
    "from PIL import Image\n",
    "\n",
    "a=np.array(Image.open('pic1.jpg').convert('L'))\n",
    "print(a)\n",
    "a[0][0] = 255\n",
    "print(a)\n",
    "b=np.array(Image.open('pic2.jpg').convert('L'))\n",
    "print(b)\n",
    "img = Image.fromarray(b, 'RGB')\n",
    "img.save('test.jpg')\n",
    "img.show()"
   ]
  },
  {
   "cell_type": "code",
   "execution_count": 114,
   "metadata": {
    "tags": []
   },
   "outputs": [
    {
     "output_type": "stream",
     "name": "stdout",
     "text": "<enumerate object at 0x7f2ad29243a8>\n"
    }
   ],
   "source": [
    "import numpy as np\n",
    "a=np.array(Image.open('pic1.jpg').convert('L'))\n",
    "key = 48\n",
    "\n",
    "b=enumerate(a)\n",
    "print(b)"
   ]
  },
  {
   "cell_type": "code",
   "execution_count": 9,
   "metadata": {},
   "outputs": [],
   "source": [
    "import skimage.io\n",
    "\n",
    "# read image\n",
    "image = skimage.io.imread(fname=\"pic1.jpg\")"
   ]
  },
  {
   "cell_type": "code",
   "execution_count": 8,
   "metadata": {
    "tags": []
   },
   "outputs": [
    {
     "output_type": "stream",
     "name": "stdout",
     "text": "b'/9j/4AAQSkZJRgABAQAAAQABAAD/2wBDAAgGBgcGBQgHBwcJCQgKDBQNDAsLDBkSEw8UHRofHh0aHBwgJC4nICIsIxwcKDcpLDAxNDQ0Hyc5PTgyPC4zNDL/2wBDAQkJCQwLDBgNDRgyIRwhMjIyMjIyMjIyMjIyMjIyMjIyMjIyMjIyMjIyMjIyMjIyMjIyMjIyMjIyMjIyMjIyMjL/wAARCAAUABQDASIAAhEBAxEB/8QAHwAAAQUBAQEBAQEAAAAAAAAAAAECAwQFBgcICQoL/8QAtRAAAgEDAwIEAwUFBAQAAAF9AQIDAAQRBRIhMUEGE1FhByJxFDKBkaEII0KxwRVS0fAkM2JyggkKFhcYGRolJicoKSo0NTY3ODk6Q0RFRkdISUpTVFVWV1hZWmNkZWZnaGlqc3R1dnd4eXqDhIWGh4iJipKTlJWWl5iZmqKjpKWmp6ipqrKztLW2t7i5usLDxMXGx8jJytLT1NXW19jZ2uHi4+Tl5ufo6erx8vP09fb3+Pn6/8QAHwEAAwEBAQEBAQEBAQAAAAAAAAECAwQFBgcICQoL/8QAtREAAgECBAQDBAcFBAQAAQJ3AAECAxEEBSExBhJBUQdhcRMiMoEIFEKRobHBCSMzUvAVYnLRChYkNOEl8RcYGRomJygpKjU2Nzg5OkNERUZHSElKU1RVVldYWVpjZGVmZ2hpanN0dXZ3eHl6goOEhYaHiImKkpOUlZaXmJmaoqOkpaanqKmqsrO0tba3uLm6wsPExcbHyMnK0tPU1dbX2Nna4uPk5ebn6Onq8vP09fb3+Pn6/9oADAMBAAIRAxEAPwDiqKKK+aPjwooooAKKKKACiiigD//Z'\n860\nb'/9j/4AAQSkZJRgABAQAAAQABAAD/2wBDAAgGBgcGBQgHBwcJCQgKDBQNDAsLDBkSEw8UHRofHh0aHBwgJC4nICIsIxwcKDcpLDAxNDQ0Hyc5PTgyPC4zNDL/2wBDAQkJCQwLDBgNDRgyIRwhMjIyMjIyMjIyMjIyMjIyMjIyMjIyMjIyMjIyMjIyMjIyMjIyMjIyMjIyMjIyMjIyMjL/wAARCAAUABQDASIAAhEBAxEB/8QAHwAAAQUBAQEBAQEAAAAAAAAAAAECAwQFBgcICQoL/8QAtRAAAgEDAwIEAwUFBAQAAAF9AQIDAAQRBRIhMUEGE1FhByJxFDKBkaEII0KxwRVS0fAkM2JyggkKFhcYGRolJicoKSo0NTY3ODk6Q0RFRkdISUpTVFVWV1hZWmNkZWZnaGlqc3R1dnd4eXqDhIWGh4iJipKTlJWWl5iZmqKjpKWmp6ipqrKztLW2t7i5usLDxMXGx8jJytLT1NXW19jZ2uHi4+Tl5ufo6erx8vP09fb3+Pn6/8QAHwEAAwEBAQEBAQEBAQAAAAAAAAECAwQFBgcICQoL/8QAtREAAgECBAQDBAcFBAQAAQJ3AAECAxEEBSExBhJBUQdhcRMiMoEIFEKRobHBCSMzUvAVYnLRChYkNOEl8RcYGRomJygpKjU2Nzg5OkNERUZHSElKU1RVVldYWVpjZGVmZ2hpanN0dXZ3eHl6goOEhYaHiImKkpOUlZaXmJmaoqOkpaanqKmqsrO0tba3uLm6wsPExcbHyMnK0tPU1dbX2Nna4uPk5ebn6Onq8vP09fb3+Pn6/9oADAMBAAIRAxEAPwDA/wCQ9/2F/wD0s/8Atv8A6H/v/wCsyaK1v+Q9/wBhf/0s/wDtv/of+/8A6z5z4vU+S+L1/P8A4P5+u+TRRRUkBRRRQB6f4N8G6d450eXVdVmuo7tLgwO9uyr5uFVt75U5c7sEjGcZOWJJKKK7oxi4ptHpwhFxTaP/2Q=='\n996\n"
    }
   ],
   "source": [
    "import base64\n",
    " \n",
    "with open(\"pic1.jpg\", \"rb\") as imageFile:\n",
    "    str = base64.b64encode(imageFile.read())\n",
    "    print(str)\n",
    "    print(len(str))\n",
    "with open(\"pic2.jpg\", \"rb\") as imageFile:\n",
    "    str = base64.b64encode(imageFile.read())\n",
    "    print(str)\n",
    "    print(len(str))\n"
   ]
  },
  {
   "cell_type": "code",
   "execution_count": 10,
   "metadata": {
    "tags": []
   },
   "outputs": [
    {
     "output_type": "stream",
     "name": "stdout",
     "text": "[[[  0 128   1]\n  [  0 128   1]\n  [  0 128   1]\n  ...\n  [  0 128   1]\n  [  0 128   1]\n  [  0 128   1]]\n\n [[  0 128   1]\n  [  0 128   1]\n  [  0 128   1]\n  ...\n  [  0 128   1]\n  [  0 128   1]\n  [  0 128   1]]\n\n [[  0 128   1]\n  [  0 128   1]\n  [  0 128   1]\n  ...\n  [  0 128   1]\n  [  0 128   1]\n  [  0 128   1]]\n\n ...\n\n [[  0 128   1]\n  [  0 128   1]\n  [  0 128   1]\n  ...\n  [  0 128   1]\n  [  0 128   1]\n  [  0 128   1]]\n\n [[  0 128   1]\n  [  0 128   1]\n  [  0 128   1]\n  ...\n  [  0 128   1]\n  [  0 128   1]\n  [  0 128   1]]\n\n [[  0 128   1]\n  [  0 128   1]\n  [  0 128   1]\n  ...\n  [  0 128   1]\n  [  0 128   1]\n  [  0 128   1]]]\n"
    }
   ],
   "source": [
    "import skimage.io\n",
    "from Crypto.Hash import MD5\n",
    "import hashlib \n",
    "  \n",
    "\n",
    "# read image\n",
    "a = skimage.io.imread(fname=\"pic1.jpg\")\n",
    "a=a.flatten(order='C') #flattened pixel array\n",
    "#print(len(a))\n",
    "b=[]\n",
    "# to convert pixels to binary\n",
    "# message M is the join of all elements in a\n",
    "for i in range(1200):\n",
    "    b.append(bin(int(a[i]))[2:].zfill(8))\n",
    "# to make blocks in message M, each block is of 5 pixels, 15 bytes\n",
    "B=[]\n",
    "for i in range(80):\n",
    "    temp = b[3*i:3*(i+1)]\n",
    "    B.append(''.join(temp)) \n",
    "#print(B)\n",
    "#Now B has 80 blocks with 15 bytes size each\n",
    "#We encode blocks in counter mode using IV = 19891, cnt = 49 starting\n",
    "list_blocks_int = []\n",
    "blocks_cipher_list = []\n",
    "counter = 49\n",
    "IV = 19891\n",
    "final_hash = 0\n",
    "for i in range(len(B)):\n",
    "    x= (int(B[i], base=2))\n",
    "    c= x^counter^IV\n",
    "    counter+=1\n",
    "    final_hash^=c\n",
    "    list_blocks_int.append(x)\n",
    "    blocks_cipher_list.append(c)\n",
    "print(final_hash)\n",
    "print(type(final_hash))\n",
    "hash = MD5.new()\n",
    "message=bin(final_hash)\n",
    "hash.update(message)\n",
    "print(hash.hexdigest())\n",
    "\n",
    "decrypted_blocks_list=[]\n",
    "\n",
    "counter=49\n",
    "for i in range(len(B)):\n",
    "    x= blocks_cipher_list[0]\n",
    "    c= x^counter^IV\n",
    "    counter+=1\n",
    "    decrypted_blocks_list.append(c)\n",
    "print(decrypted_blocks_list)\n"
   ]
  },
  {
   "cell_type": "code",
   "execution_count": 51,
   "metadata": {
    "tags": []
   },
   "outputs": [
    {
     "output_type": "stream",
     "name": "stdout",
     "text": "1200\n176\n11001101100000111100110110000000110011011000000111001101100001101100110110000111110011011000010011001101100001011100110110001010110011011000101111001101100010001100110110001001110011011000111011001101100011111100110110001100110011011000110111001101111100101100110111110011110011011111000011001101111100011100110111110110110011011111011111001101111101001100110111110101110011011111101011001101111110111100110111111000110011011111100111001101111111101100110111111111110011011111110011001101111111011100110111100010110011011110001111001101111000001100110111100001110011011110011011001101111001111100110111100100110011011110010111001101111010101100110111101011110011011110100011001101111010011100110111101110110011011110111111001101111011001100110111101101110011011101001011001101110100111100110111010000110011011101000111001101110101101100110111010111110011011101010011001101110101011100110111011010110011011101101111001101110110001100110111011001110011011101111011001101110111111100110111011100110011011101110111001101110000101100110111000011110011011100000011001101110000011100110111000110110011011100011111001101110001001100110111000101110011011100101011001101110010111100110111001000110011011100100111001101110011101100110111001111110011011100110011001101110011011100110100110010\n38af86134b65d0f10fe33d30dd76442e\n"
    }
   ],
   "source": [
    "\n",
    "import skimage.io\n",
    "from Crypto.Hash import MD5\n",
    "# read image\n",
    "a = skimage.io.imread(fname=\"pic1.jpg\")\n",
    "a=a.flatten(order='C') #flattened pixel array\n",
    "print(len(a))\n",
    "b=[]\n",
    "# to convert pixels to binary\n",
    "# message M is the join of all elements in a\n",
    "for i in range(1200):\n",
    "    b.append(bin(int(a[i]))[2:].zfill(8))\n",
    "# to make blocks in message M, each block is of 5 pixels, 15 bytes\n",
    "B=[]\n",
    "for i in range(80):\n",
    "    temp = b[3*i:3*(i+1)]\n",
    "    B.append(''.join(temp)) \n",
    "#print(B)\n",
    "#Now B has 80 blocks with 15 bytes size each\n",
    "#We encode blocks in counter mode using IV = 19891, cnt = 49 starting\n",
    "list_blocks_int = []\n",
    "blocks_cipher_list = []\n",
    "counter = 49\n",
    "IV = 19891\n",
    "final_hash_int = 0\n",
    "for i in range(len(B)):\n",
    "    x= (int(B[i], base=2))\n",
    "    #print(x)\n",
    "    c= x^counter^IV\n",
    "    counter+=1\n",
    "    final_hash_int^=c\n",
    "    list_blocks_int.append(x)\n",
    "    blocks_cipher_list.append(str(c))\n",
    "print(final_hash_int)\n",
    "temp=[]\n",
    "for i in range(len(blocks_cipher_list)):\n",
    "    temp.append(bin(int(blocks_cipher_list[i]))[2:].zfill(8))\n",
    "\n",
    "final_hash_str = ''.join(temp)\n",
    "print((final_hash_str))\n",
    "hash = MD5.new()\n",
    "message=str(final_hash_int).encode('utf-8')\n",
    "#print(message)\n",
    "hash.update(message)\n",
    "print(hash.hexdigest())\n",
    "final_hash = hash.hexdigest()\n",
    "\n",
    "decrypted_blocks_list=[]\n",
    "\n",
    "counter=49\n",
    "#for i in range(len(B)):\n",
    "#    x= blocks_cipher_list[i]\n",
    "#    c= x^counter^IV\n",
    "#    counter+=1\n",
    "#    decrypted_blocks_list.append(c)\n",
    "#print(decrypted_blocks_list)\n",
    "\n"
   ]
  },
  {
   "cell_type": "code",
   "execution_count": 21,
   "metadata": {
    "tags": []
   },
   "outputs": [
    {
     "output_type": "stream",
     "name": "stdout",
     "text": "1200\n['00000000', '10000000', '00000001', '00000000', '10000000', '00000001', '00000000', '10000000', '00000001', '00000000', '10000000', '00000001', '00000000', '10000000', '00000001', '00000000', '10000000', '00000001', '00000000', '10000000', '00000001', '00000000', '10000000', '00000001', '00000000', '10000000', '00000001', '00000000', '10000000', '00000001', '00000000', '10000000', '00000001', '00000000', '10000000', '00000001', '00000000', '10000000', '00000001', '00000000', '10000000', '00000001', '00000000', '10000000', '00000001', '00000000', '10000000', '00000001', '00000000', '10000000', '00000001', '00000000', '10000000', '00000001', '00000000', '10000000', '00000001', '00000000', '10000000', '00000001', '00000000', '10000000', '00000001', '00000000', '10000000', '00000001', '00000000', '10000000', '00000001', '00000000', '10000000', '00000001', '00000000', '10000000', '00000001', '00000000', '10000000', '00000001', '00000000', '10000000', '00000001', '00000000', '10000000', '00000001', '00000000', '10000000', '00000001', '00000000', '10000000', '00000001', '00000000', '10000000', '00000001', '00000000', '10000000', '00000001', '00000000', '10000000', '00000001', '00000000', '10000000', '00000001', '00000000', '10000000', '00000001', '00000000', '10000000', '00000001', '00000000', '10000000', '00000001', '00000000', '10000000', '00000001', '00000000', '10000000', '00000001', '00000000', '10000000', '00000001', '00000000', '10000000', '00000001', '00000000', '10000000', '00000001', '00000000', '10000000', '00000001', '00000000', '10000000', '00000001', '00000000', '10000000', '00000001', '00000000', '10000000', '00000001', '00000000', '10000000', '00000001', '00000000', '10000000', '00000001', '00000000', '10000000', '00000001', '00000000', '10000000', '00000001', '00000000', '10000000', '00000001', '00000000', '10000000', '00000001', '00000000', '10000000', '00000001', '00000000', '10000000', '00000001', '00000000', '10000000', '00000001', '00000000', '10000000', '00000001', '00000000', '10000000', '00000001', '00000000', '10000000', '00000001', '00000000', '10000000', '00000001', '00000000', '10000000', '00000001', '00000000', '10000000', '00000001', '00000000', '10000000', '00000001', '00000000', '10000000', '00000001', '00000000', '10000000', '00000001', '00000000', '10000000', '00000001', '00000000', '10000000', '00000001', '00000000', '10000000', '00000001', '00000000', '10000000', '00000001', '00000000', '10000000', '00000001', '00000000', '10000000', '00000001', '00000000', '10000000', '00000001', '00000000', '10000000', '00000001', '00000000', '10000000', '00000001', '00000000', '10000000', '00000001', '00000000', '10000000', '00000001', '00000000', '10000000', '00000001', '00000000', '10000000', '00000001', '00000000', '10000000', '00000001', '00000000', '10000000', '00000001', '00000000', '10000000', '00000001', '00000000', '10000000', '00000001', '00000000', '10000000', '00000001', '00000000', '10000000', '00000001', '00000000', '10000000', '00000001', '00000000', '10000000', '00000001', '00000000', '10000000', '00000001', '00000000', '10000000', '00000001', '00000000', '10000000', '00000001', '00000000', '10000000', '00000001', '00000000', '10000000', '00000001', '00000000', '10000000', '00000001', '00000000', '10000000', '00000001', '00000000', '10000000', '00000001', '00000000', '10000000', '00000001', '00000000', '10000000', '00000001', '00000000', '10000000', '00000001', '00000000', '10000000', '00000001', '00000000', '10000000', '00000001', '00000000', '10000000', '00000001', '00000000', '10000000', '00000001', '00000000', '10000000', '00000001', '00000000', '10000000', '00000001', '00000000', '10000000', '00000001', '00000000', '10000000', '00000001', '00000000', '10000000', '00000001', '00000000', '10000000', '00000001', '00000000', '10000000', '00000001', '00000000', '10000000', '00000001', '00000000', '10000000', '00000001', '00000000', '10000000', '00000001', '00000000', '10000000', '00000001', '00000000', '10000000', '00000001', '00000000', '10000000', '00000001', '00000000', '10000000', '00000001', '00000000', '10000000', '00000001', '00000000', '10000000', '00000001', '00000000', '10000000', '00000001', '00000000', '10000000', '00000001', '00000000', '10000000', '00000001', '00000000', '10000000', '00000001', '00000000', '10000000', '00000001', '00000000', '10000000', '00000001', '00000000', '10000000', '00000001', '00000000', '10000000', '00000001', '00000000', '10000000', '00000001', '00000000', '10000000', '00000001', '00000000', '10000000', '00000001', '00000000', '10000000', '00000001', '00000000', '10000000', '00000001', '00000000', '10000000', '00000001', '00000000', '10000000', '00000001', '00000000', '10000000', '00000001', '00000000', '10000000', '00000001', '00000000', '10000000', '00000001', '00000000', '10000000', '00000001', '00000000', '10000000', '00000001', '00000000', '10000000', '00000001', '00000000', '10000000', '00000001', '00000000', '10000000', '00000001', '00000000', '10000000', '00000001', '00000000', '10000000', '00000001', '00000000', '10000000', '00000001', '00000000', '10000000', '00000001', '00000000', '10000000', '00000001', '00000000', '10000000', '00000001', '00000000', '10000000', '00000001', '00000000', '10000000', '00000001', '00000000', '10000000', '00000001', '00000000', '10000000', '00000001', '00000000', '10000000', '00000001', '00000000', '10000000', '00000001', '00000000', '10000000', '00000001', '00000000', '10000000', '00000001', '00000000', '10000000', '00000001', '00000000', '10000000', '00000001', '00000000', '10000000', '00000001', '00000000', '10000000', '00000001', '00000000', '10000000', '00000001', '00000000', '10000000', '00000001', '00000000', '10000000', '00000001', '00000000', '10000000', '00000001', '00000000', '10000000', '00000001', '00000000', '10000000', '00000001', '00000000', '10000000', '00000001', '00000000', '10000000', '00000001', '00000000', '10000000', '00000001', '00000000', '10000000', '00000001', '00000000', '10000000', '00000001', '00000000', '10000000', '00000001', '00000000', '10000000', '00000001', '00000000', '10000000', '00000001', '00000000', '10000000', '00000001', '00000000', '10000000', '00000001', '00000000', '10000000', '00000001', '00000000', '10000000', '00000001', '00000000', '10000000', '00000001', '00000000', '10000000', '00000001', '00000000', '10000000', '00000001', '00000000', '10000000', '00000001', '00000000', '10000000', '00000001', '00000000', '10000000', '00000001', '00000000', '10000000', '00000001', '00000000', '10000000', '00000001', '00000000', '10000000', '00000001', '00000000', '10000000', '00000001', '00000000', '10000000', '00000001', '00000000', '10000000', '00000001', '00000000', '10000000', '00000001', '00000000', '10000000', '00000001', '00000000', '10000000', '00000001', '00000000', '10000000', '00000001', '00000000', '10000000', '00000001', '00000000', '10000000', '00000001', '00000000', '10000000', '00000001', '00000000', '10000000', '00000001', '00000000', '10000000', '00000001', '00000000', '10000000', '00000001', '00000000', '10000000', '00000001', '00000000', '10000000', '00000001', '00000000', '10000000', '00000001', '00000000', '10000000', '00000001', '00000000', '10000000', '00000001', '00000000', '10000000', '00000001', '00000000', '10000000', '00000001', '00000000', '10000000', '00000001', '00000000', '10000000', '00000001', '00000000', '10000000', '00000001', '00000000', '10000000', '00000001', '00000000', '10000000', '00000001', '00000000', '10000000', '00000001', '00000000', '10000000', '00000001', '00000000', '10000000', '00000001', '00000000', '10000000', '00000001', '00000000', '10000000', '00000001', '00000000', '10000000', '00000001', '00000000', '10000000', '00000001', '00000000', '10000000', '00000001', '00000000', '10000000', '00000001', '00000000', '10000000', '00000001', '00000000', '10000000', '00000001', '00000000', '10000000', '00000001', '00000000', '10000000', '00000001', '00000000', '10000000', '00000001', '00000000', '10000000', '00000001', '00000000', '10000000', '00000001', '00000000', '10000000', '00000001', '00000000', '10000000', '00000001', '00000000', '10000000', '00000001', '00000000', '10000000', '00000001', '00000000', '10000000', '00000001', '00000000', '10000000', '00000001', '00000000', '10000000', '00000001', '00000000', '10000000', '00000001', '00000000', '10000000', '00000001', '00000000', '10000000', '00000001', '00000000', '10000000', '00000001', '00000000', '10000000', '00000001', '00000000', '10000000', '00000001', '00000000', '10000000', '00000001', '00000000', '10000000', '00000001', '00000000', '10000000', '00000001', '00000000', '10000000', '00000001', '00000000', '10000000', '00000001', '00000000', '10000000', '00000001', '00000000', '10000000', '00000001', '00000000', '10000000', '00000001', '00000000', '10000000', '00000001', '00000000', '10000000', '00000001', '00000000', '10000000', '00000001', '00000000', '10000000', '00000001', '00000000', '10000000', '00000001', '00000000', '10000000', '00000001', '00000000', '10000000', '00000001', '00000000', '10000000', '00000001', '00000000', '10000000', '00000001', '00000000', '10000000', '00000001', '00000000', '10000000', '00000001', '00000000', '10000000', '00000001', '00000000', '10000000', '00000001', '00000000', '10000000', '00000001', '00000000', '10000000', '00000001', '00000000', '10000000', '00000001', '00000000', '10000000', '00000001', '00000000', '10000000', '00000001', '00000000', '10000000', '00000001', '00000000', '10000000', '00000001', '00000000', '10000000', '00000001', '00000000', '10000000', '00000001', '00000000', '10000000', '00000001', '00000000', '10000000', '00000001', '00000000', '10000000', '00000001', '00000000', '10000000', '00000001', '00000000', '10000000', '00000001', '00000000', '10000000', '00000001', '00000000', '10000000', '00000001', '00000000', '10000000', '00000001', '00000000', '10000000', '00000001', '00000000', '10000000', '00000001', '00000000', '10000000', '00000001', '00000000', '10000000', '00000001', '00000000', '10000000', '00000001', '00000000', '10000000', '00000001', '00000000', '10000000', '00000001', '00000000', '10000000', '00000001', '00000000', '10000000', '00000001', '00000000', '10000000', '00000001', '00000000', '10000000', '00000001', '00000000', '10000000', '00000001', '00000000', '10000000', '00000001', '00000000', '10000000', '00000001', '00000000', '10000000', '00000001', '00000000', '10000000', '00000001', '00000000', '10000000', '00000001', '00000000', '10000000', '00000001', '00000000', '10000000', '00000001', '00000000', '10000000', '00000001', '00000000', '10000000', '00000001', '00000000', '10000000', '00000001', '00000000', '10000000', '00000001', '00000000', '10000000', '00000001', '00000000', '10000000', '00000001', '00000000', '10000000', '00000001', '00000000', '10000000', '00000001', '00000000', '10000000', '00000001', '00000000', '10000000', '00000001', '00000000', '10000000', '00000001', '00000000', '10000000', '00000001', '00000000', '10000000', '00000001', '00000000', '10000000', '00000001', '00000000', '10000000', '00000001', '00000000', '10000000', '00000001', '00000000', '10000000', '00000001', '00000000', '10000000', '00000001', '00000000', '10000000', '00000001', '00000000', '10000000', '00000001', '00000000', '10000000', '00000001', '00000000', '10000000', '00000001', '00000000', '10000000', '00000001', '00000000', '10000000', '00000001', '00000000', '10000000', '00000001', '00000000', '10000000', '00000001', '00000000', '10000000', '00000001', '00000000', '10000000', '00000001', '00000000', '10000000', '00000001', '00000000', '10000000', '00000001', '00000000', '10000000', '00000001', '00000000', '10000000', '00000001', '00000000', '10000000', '00000001', '00000000', '10000000', '00000001', '00000000', '10000000', '00000001', '00000000', '10000000', '00000001', '00000000', '10000000', '00000001', '00000000', '10000000', '00000001', '00000000', '10000000', '00000001', '00000000', '10000000', '00000001', '00000000', '10000000', '00000001', '00000000', '10000000', '00000001', '00000000', '10000000', '00000001', '00000000', '10000000', '00000001', '00000000', '10000000', '00000001', '00000000', '10000000', '00000001', '00000000', '10000000', '00000001', '00000000', '10000000', '00000001', '00000000', '10000000', '00000001', '00000000', '10000000', '00000001', '00000000', '10000000', '00000001', '00000000', '10000000', '00000001', '00000000', '10000000', '00000001', '00000000', '10000000', '00000001', '00000000', '10000000', '00000001', '00000000', '10000000', '00000001', '00000000', '10000000', '00000001', '00000000', '10000000', '00000001', '00000000', '10000000', '00000001', '00000000', '10000000', '00000001', '00000000', '10000000', '00000001', '00000000', '10000000', '00000001', '00000000', '10000000', '00000001', '00000000', '10000000', '00000001', '00000000', '10000000', '00000001', '00000000', '10000000', '00000001', '00000000', '10000000', '00000001', '00000000', '10000000', '00000001', '00000000', '10000000', '00000001', '00000000', '10000000', '00000001', '00000000', '10000000', '00000001', '00000000', '10000000', '00000001', '00000000', '10000000', '00000001', '00000000', '10000000', '00000001', '00000000', '10000000', '00000001', '00000000', '10000000', '00000001', '00000000', '10000000', '00000001', '00000000', '10000000', '00000001', '00000000', '10000000', '00000001', '00000000', '10000000', '00000001', '00000000', '10000000', '00000001', '00000000', '10000000', '00000001', '00000000', '10000000', '00000001', '00000000', '10000000', '00000001', '00000000', '10000000', '00000001', '00000000', '10000000', '00000001', '00000000', '10000000', '00000001', '00000000', '10000000', '00000001', '00000000', '10000000', '00000001', '00000000', '10000000', '00000001', '00000000', '10000000', '00000001', '00000000', '10000000', '00000001', '00000000', '10000000', '00000001', '00000000', '10000000', '00000001', '00000000', '10000000', '00000001', '00000000', '10000000', '00000001', '00000000', '10000000', '00000001', '00000000', '10000000', '00000001', '00000000', '10000000', '00000001', '00000000', '10000000', '00000001', '00000000', '10000000', '00000001', '00000000', '10000000', '00000001', '00000000', '10000000', '00000001', '00000000', '10000000', '00000001', '00000000', '10000000', '00000001']\n1200\n"
    }
   ],
   "source": [
    "import skimage.io\n",
    "from Crypto.Hash import MD5\n",
    "# read image\n",
    "a = skimage.io.imread(fname=\"pic1.jpg\")\n",
    "a=a.flatten(order='C') #flattened pixel array\n",
    "print(len(a))\n",
    "b=[]\n",
    "# to convert pixels to binary\n",
    "# message M is the join of all elements in a\n",
    "for i in range(1200):\n",
    "    b.append(bin(int(a[i]))[2:].zfill(8))\n",
    "# to make blocks in message M, each block is of 5 pixels, 15 bytes\n",
    "print(b)\n",
    "print(len(b))\n",
    "B=[]\n",
    "for i in range(80):\n",
    "    temp = b[3*i:3*(i+1)]\n",
    "    B.append(''.join(temp)) \n",
    "#print(B)\n",
    "#print(len(B))"
   ]
  },
  {
   "cell_type": "code",
   "execution_count": 17,
   "metadata": {
    "tags": []
   },
   "outputs": [
    {
     "output_type": "stream",
     "name": "stdout",
     "text": "[[[0 0 0]\n  [0 0 0]\n  [0 0 0]\n  ...\n  [0 0 0]\n  [0 0 0]\n  [0 0 0]]\n\n [[0 0 0]\n  [0 0 0]\n  [0 0 0]\n  ...\n  [0 0 0]\n  [0 0 0]\n  [0 0 0]]\n\n [[0 0 0]\n  [0 0 0]\n  [0 0 0]\n  ...\n  [0 0 0]\n  [0 0 0]\n  [0 0 0]]\n\n ...\n\n [[0 0 0]\n  [0 0 0]\n  [0 0 0]\n  ...\n  [0 0 0]\n  [0 0 0]\n  [0 0 0]]\n\n [[0 0 0]\n  [0 0 0]\n  [0 0 0]\n  ...\n  [0 0 0]\n  [0 0 0]\n  [0 0 0]]\n\n [[0 0 0]\n  [0 0 0]\n  [0 0 0]\n  ...\n  [0 0 0]\n  [0 0 0]\n  [0 0 0]]]\n"
    }
   ],
   "source": [
    "## CODE FOR ARRAY TO IMAGE\n",
    "\n",
    "from PIL import Image\n",
    "import numpy as np\n",
    "\n",
    "w, h = 512, 512\n",
    "data = np.zeros((h, w, 3), dtype=np.uint8)\n",
    "print(data)\n",
    "data[0:256, 0:256] = [255, 0, 0] # red patch in upper left\n",
    "img = Image.fromarray(data, 'RGB')\n",
    "img.save('my.png')\n",
    "img.show()"
   ]
  },
  {
   "cell_type": "code",
   "execution_count": 30,
   "metadata": {
    "tags": []
   },
   "outputs": [
    {
     "output_type": "stream",
     "name": "stdout",
     "text": "1200\n"
    }
   ],
   "source": [
    "import skimage.io\n",
    "from Crypto.Hash import MD5\n",
    "# read image\n",
    "a = skimage.io.imread(fname=\"pic1.jpg\")\n",
    "a=a.flatten(order='C') #flattened pixel array\n",
    "print(len(a))\n",
    "b=[]\n",
    "# to convert pixels to binary\n",
    "# message M is the join of all elements in a\n",
    "for i in range(1200):\n",
    "    b.append(bin(int(a[i]))[2:].zfill(8))\n",
    "#print(b)\n",
    "D=[]\n",
    "t=''\n",
    "for i in range(len(b)):\n",
    "    if(i%8==0):\n",
    "        t = b[i]\n",
    "    \n",
    "    else:\n",
    "        t+=b[i]\n",
    "        if((i+1)%8==0):\n",
    "            D.append(t)\n",
    "        elif(i==len(b)-1):\n",
    "            D.append(t)\n",
    "# D CONSISTS OF 150 BLOCKS OF MESSAGES, LENGTH 64 BITS EACH"
   ]
  },
  {
   "cell_type": "code",
   "execution_count": 33,
   "metadata": {
    "tags": []
   },
   "outputs": [
    {
     "output_type": "stream",
     "name": "stdout",
     "text": "<class 'bytes'>\na25a3530e4b08bf36e4eba4a62d55ce9\n"
    }
   ],
   "source": [
    "from Crypto.Hash import MD5\n",
    "R =[]\n",
    "#for i in D:\n",
    "hash = MD5.new()\n",
    "message=D[0].encode('utf-8')\n",
    "print(type(message))\n",
    "hash.update(message)\n",
    "print(hash.hexdigest())"
   ]
  },
  {
   "cell_type": "code",
   "execution_count": 39,
   "metadata": {
    "tags": []
   },
   "outputs": [
    {
     "output_type": "stream",
     "name": "stdout",
     "text": "215803320875861314203172436546581519593\n128\n"
    }
   ],
   "source": [
    "import hashlib\n",
    "\n",
    "a = hashlib.md5(D[0].encode('utf-8'))\n",
    "b = a.hexdigest()\n",
    "as_int = int(b, 16)\n",
    "print(as_int)\n",
    "print(len(bin(as_int)[2:]))\n"
   ]
  },
  {
   "cell_type": "code",
   "execution_count": 55,
   "metadata": {
    "tags": []
   },
   "outputs": [
    {
     "output_type": "stream",
     "name": "stdout",
     "text": "4303220081646493122\n83956083415494437196646467121856018425 1111110010100101011010011111110110010000101101110001101100010100 18205073606490659604\n0001111010010101001010001111111111101101011001101100100100101000\n"
    }
   ],
   "source": [
    "def randomizer(D_is_array_64bits_blocks):\n",
    "    R=[]\n",
    "    for i in D_is_array_64bits_blocks:\n",
    "        a = hashlib.md5(i.encode('utf-8'))\n",
    "        b = a.hexdigest()\n",
    "        as_int = int(b, 16)\n",
    "        \n",
    "        as_bin = bin(as_int)[2:66]   # taking a 64bit no. to randomize\n",
    "        randomizer_number = int(as_bin, 2)\n",
    "        print(as_int,as_bin,randomizer_number)\n",
    "        R.append(bin(randomizer_number*int(i,2)%9223372036854775808)[2:].zfill(64))   # 2 to the power 63\n",
    "    return R\n",
    "print(int('0011101110111000000110111101110101100100110111011101110111000010',2))\n",
    "R= randomizer(['0011101110111000000110111101110101100100110111011101110111000010'])\n",
    "print(R[0])"
   ]
  },
  {
   "cell_type": "code",
   "execution_count": 56,
   "metadata": {},
   "outputs": [
    {
     "output_type": "execute_result",
     "data": {
      "text/plain": "2203712672332433704"
     },
     "metadata": {},
     "execution_count": 56
    }
   ],
   "source": [
    "18205073606490659604*4303220081646493122%9223372036854775808"
   ]
  },
  {
   "cell_type": "code",
   "execution_count": 57,
   "metadata": {},
   "outputs": [
    {
     "output_type": "execute_result",
     "data": {
      "text/plain": "'0b1111010010101001010001111111111101101011001101100100100101000'"
     },
     "metadata": {},
     "execution_count": 57
    }
   ],
   "source": [
    "bin(2203712672332433704)"
   ]
  },
  {
   "cell_type": "code",
   "execution_count": 58,
   "metadata": {
    "tags": []
   },
   "outputs": [
    {
     "output_type": "stream",
     "name": "stdout",
     "text": "True\n"
    }
   ],
   "source": [
    "print('1111010010101001010001111111111101101011001101100100100101000'=='1111010010101001010001111111111101101011001101100100100101000')"
   ]
  },
  {
   "cell_type": "code",
   "execution_count": null,
   "metadata": {},
   "outputs": [],
   "source": []
  }
 ]
}